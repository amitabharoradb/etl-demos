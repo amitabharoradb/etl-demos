{
 "cells": [
  {
   "cell_type": "markdown",
   "metadata": {
    "application/vnd.databricks.v1+cell": {
     "cellMetadata": {},
     "inputWidgets": {},
     "nuid": "17938f16-d08b-4a30-aac6-c4a8ff134320",
     "showTitle": false,
     "tableResultSettingsMap": {},
     "title": ""
    }
   },
   "source": [
    "### Parameterize catalog and schema"
   ]
  },
  {
   "cell_type": "code",
   "execution_count": 0,
   "metadata": {
    "application/vnd.databricks.v1+cell": {
     "cellMetadata": {
      "byteLimit": 2048000,
      "rowLimit": 10000
     },
     "inputWidgets": {},
     "nuid": "704abe3f-802d-4ce2-9b65-95d63ac3afad",
     "showTitle": true,
     "tableResultSettingsMap": {},
     "title": "Set Catalog and Schema for Demo Dataset"
    }
   },
   "outputs": [],
   "source": [
    "default_database = \"main\"\n",
    "default_schema_name = \"default\"\n",
    "\n",
    "dbutils.widgets.text(\"demo_database\", default_database, \"Catalog Name\")\n",
    "dbutils.widgets.text(\"demo_schema\", default_schema_name, \"Schema Name\")\n",
    "\n",
    "database = dbutils.widgets.get(\"demo_database\")\n",
    "schema = dbutils.widgets.get(\"demo_schema\")\n",
    "\n",
    "print(f\"Selected Catalog for Demo Dataset: {database}\")\n",
    "print(f\"Selected Schema for Demo Dataset: {schema}\")\n",
    "\n",
    "spark.sql(f\"CREATE CATALOG IF NOT EXISTS {database}\")\n",
    "spark.sql(f\"USE CATALOG {database}\")\n",
    "\n",
    "spark.sql(f\"CREATE SCHEMA IF NOT EXISTS {schema}\")\n",
    "spark.sql(f\"USE SCHEMA {schema}\")"
   ]
  },
  {
   "cell_type": "markdown",
   "metadata": {
    "application/vnd.databricks.v1+cell": {
     "cellMetadata": {},
     "inputWidgets": {},
     "nuid": "2b6c745e-e766-46c6-a099-2fb593774105",
     "showTitle": false,
     "tableResultSettingsMap": {},
     "title": ""
    }
   },
   "source": [
    "### Define location to store the rules"
   ]
  },
  {
   "cell_type": "code",
   "execution_count": 0,
   "metadata": {
    "application/vnd.databricks.v1+cell": {
     "cellMetadata": {
      "byteLimit": 2048000,
      "rowLimit": 10000
     },
     "inputWidgets": {},
     "nuid": "ea9cbbd6-8761-4b65-ae6e-03ba34320d44",
     "showTitle": false,
     "tableResultSettingsMap": {},
     "title": ""
    }
   },
   "outputs": [],
   "source": [
    "import os\n",
    "os.getcwd()"
   ]
  },
  {
   "cell_type": "code",
   "execution_count": 0,
   "metadata": {
    "application/vnd.databricks.v1+cell": {
     "cellMetadata": {
      "byteLimit": 2048000,
      "rowLimit": 10000
     },
     "inputWidgets": {},
     "nuid": "903b8696-9c5f-4a33-8531-6a1332b64fc5",
     "showTitle": false,
     "tableResultSettingsMap": {},
     "title": ""
    }
   },
   "outputs": [],
   "source": [
    "import os\n",
    "workspace_root_path = os.getcwd()\n",
    "quality_rules_path = f\"{workspace_root_path}/quality_rules\""
   ]
  },
  {
   "cell_type": "markdown",
   "metadata": {
    "application/vnd.databricks.v1+cell": {
     "cellMetadata": {
      "byteLimit": 2048000,
      "rowLimit": 10000
     },
     "inputWidgets": {},
     "nuid": "b987a25c-adf8-4ee8-ba2c-810c8d1efc11",
     "showTitle": false,
     "tableResultSettingsMap": {},
     "title": ""
    }
   },
   "source": [
    "### DQX - Install as Library <br>\n"
   ]
  },
  {
   "cell_type": "code",
   "execution_count": 0,
   "metadata": {
    "application/vnd.databricks.v1+cell": {
     "cellMetadata": {
      "byteLimit": 2048000,
      "rowLimit": 10000
     },
     "inputWidgets": {},
     "nuid": "0e1a5d9b-f887-4825-b588-9f3f7887ffc4",
     "showTitle": true,
     "tableResultSettingsMap": {},
     "title": "Install DQX Library"
    }
   },
   "outputs": [],
   "source": [
    "%pip install databricks-labs-dqx\n",
    "dbutils.library.restartPython()"
   ]
  },
  {
   "cell_type": "markdown",
   "metadata": {
    "application/vnd.databricks.v1+cell": {
     "cellMetadata": {},
     "inputWidgets": {},
     "nuid": "d18d0b73-4833-4fc3-a333-28701b9f21de",
     "showTitle": false,
     "tableResultSettingsMap": {},
     "title": ""
    }
   },
   "source": [
    "### Load source tables into DataFrames"
   ]
  },
  {
   "cell_type": "code",
   "execution_count": 0,
   "metadata": {
    "application/vnd.databricks.v1+cell": {
     "cellMetadata": {
      "byteLimit": 2048000,
      "rowLimit": 10000
     },
     "inputWidgets": {},
     "nuid": "c17d797b-161b-4f03-81bd-3647ef29f0c6",
     "showTitle": false,
     "tableResultSettingsMap": {},
     "title": ""
    }
   },
   "outputs": [],
   "source": [
    "sensor_table = f\"{database}.{schema}.sensor_data\"\n",
    "maintenance_table = f\"{database}.{schema}.maintenance_data\"\n",
    "\n",
    "sensor_bronze_df = spark.read.table(sensor_table)\n",
    "mntnc_bronze_df = spark.read.table(maintenance_table)"
   ]
  },
  {
   "cell_type": "markdown",
   "metadata": {
    "application/vnd.databricks.v1+cell": {
     "cellMetadata": {
      "byteLimit": 2048000,
      "rowLimit": 10000
     },
     "inputWidgets": {},
     "nuid": "43877859-68ec-414d-84ee-9ea38e90bf5d",
     "showTitle": false,
     "tableResultSettingsMap": {},
     "title": ""
    }
   },
   "source": [
    "\n",
    "### Problem - Team doesn't know the Quality Rules for Maintenance Dataset\n",
    "### Feature - Infer the Data Quality Rules using DQX"
   ]
  },
  {
   "cell_type": "markdown",
   "metadata": {
    "application/vnd.databricks.v1+cell": {
     "cellMetadata": {},
     "inputWidgets": {},
     "nuid": "b8ee2628-bfa6-4dcc-9526-046ea7388d8f",
     "showTitle": false,
     "tableResultSettingsMap": {},
     "title": ""
    }
   },
   "source": [
    "#### **Step-1**. Instantiate DQX engine"
   ]
  },
  {
   "cell_type": "code",
   "execution_count": 0,
   "metadata": {
    "application/vnd.databricks.v1+cell": {
     "cellMetadata": {
      "byteLimit": 2048000,
      "rowLimit": 10000
     },
     "inputWidgets": {},
     "nuid": "7afeb44f-c5f1-436e-a6aa-dc3ec7b8f405",
     "showTitle": true,
     "tableResultSettingsMap": {},
     "title": "DQX Initialization"
    }
   },
   "outputs": [],
   "source": [
    "import os\n",
    "from databricks.labs.dqx.profiler.profiler import DQProfiler\n",
    "from databricks.labs.dqx.profiler.generator import DQGenerator\n",
    "from databricks.labs.dqx.engine import DQEngine\n",
    "from databricks.sdk import WorkspaceClient\n",
    "from pprint import pprint\n",
    "\n",
    "# Instantiate DQX engine\n",
    "ws = WorkspaceClient()\n",
    "dq_engine = DQEngine(ws)"
   ]
  },
  {
   "cell_type": "markdown",
   "metadata": {
    "application/vnd.databricks.v1+cell": {
     "cellMetadata": {},
     "inputWidgets": {},
     "nuid": "1b066df6-002b-4647-b698-78a9e049256a",
     "showTitle": false,
     "tableResultSettingsMap": {},
     "title": ""
    }
   },
   "source": [
    "#### Maintenance Data"
   ]
  },
  {
   "cell_type": "markdown",
   "metadata": {
    "application/vnd.databricks.v1+cell": {
     "cellMetadata": {
      "byteLimit": 2048000,
      "rowLimit": 10000
     },
     "inputWidgets": {},
     "nuid": "4d1104ea-02b8-4d0d-9aef-15299cfce0f9",
     "showTitle": false,
     "tableResultSettingsMap": {},
     "title": ""
    }
   },
   "source": [
    "**Step-2**. Run DQX Profiler and **Infer** Quality Rules"
   ]
  },
  {
   "cell_type": "code",
   "execution_count": 0,
   "metadata": {
    "application/vnd.databricks.v1+cell": {
     "cellMetadata": {
      "byteLimit": 2048000,
      "rowLimit": 10000
     },
     "inputWidgets": {},
     "nuid": "c6a16341-b7e7-4314-8b40-d71fe5cd6e3d",
     "showTitle": false,
     "tableResultSettingsMap": {},
     "title": ""
    }
   },
   "outputs": [],
   "source": [
    "# Profile Inpute Data\n",
    "profiler = DQProfiler(ws)\n",
    "summary_stats, profiles = profiler.profile(mntnc_bronze_df)\n",
    "\n",
    "# Generate DQX quality rules/checks\n",
    "generator = DQGenerator(ws)\n",
    "checks = generator.generate_dq_rules(profiles)  # with default level \"error\""
   ]
  },
  {
   "cell_type": "code",
   "execution_count": 0,
   "metadata": {
    "application/vnd.databricks.v1+cell": {
     "cellMetadata": {
      "byteLimit": 2048000,
      "rowLimit": 10000
     },
     "inputWidgets": {},
     "nuid": "47cd8756-48b5-4870-aa9f-99e9f92fa726",
     "showTitle": false,
     "tableResultSettingsMap": {},
     "title": ""
    }
   },
   "outputs": [],
   "source": [
    "for idx, check in enumerate(checks):\n",
    "   print(f\"\\n========Check {idx} ==========\")\n",
    "   pprint(check)"
   ]
  },
  {
   "cell_type": "markdown",
   "metadata": {
    "application/vnd.databricks.v1+cell": {
     "cellMetadata": {},
     "inputWidgets": {},
     "nuid": "71268870-70fc-490a-a45a-8b135daf0762",
     "showTitle": false,
     "tableResultSettingsMap": {},
     "title": ""
    }
   },
   "source": [
    "**Step-3.1**. Save profiler generated reules in a file"
   ]
  },
  {
   "cell_type": "code",
   "execution_count": 0,
   "metadata": {
    "application/vnd.databricks.v1+cell": {
     "cellMetadata": {
      "byteLimit": 2048000,
      "rowLimit": 10000
     },
     "inputWidgets": {},
     "nuid": "81f88207-e6a1-4e76-8f17-4290c3e10047",
     "showTitle": true,
     "tableResultSettingsMap": {},
     "title": "Save the quality rules in a file for review"
    }
   },
   "outputs": [],
   "source": [
    "# save checks in arbitrary workspace location\n",
    "maintenance_quality_rules = f\"{quality_rules_path}/maintenance_dq_rules.yml\"\n",
    "dq_engine.save_checks_in_workspace_file(checks, workspace_path=maintenance_quality_rules)\n",
    "\n",
    "# display the link to the saved checks\n",
    "displayHTML(f'<a href=\"/#workspace{maintenance_quality_rules}\" target=\"_blank\">Maintenance Data Quality Rules YAML</a>')"
   ]
  },
  {
   "cell_type": "markdown",
   "metadata": {
    "application/vnd.databricks.v1+cell": {
     "cellMetadata": {},
     "inputWidgets": {},
     "nuid": "143fde16-1f2a-4257-bc5b-172a3384be7a",
     "showTitle": false,
     "tableResultSettingsMap": {},
     "title": ""
    }
   },
   "source": [
    "**Step-3.2**. Save profiler generated reules in a table"
   ]
  },
  {
   "cell_type": "code",
   "execution_count": 0,
   "metadata": {
    "application/vnd.databricks.v1+cell": {
     "cellMetadata": {
      "byteLimit": 2048000,
      "rowLimit": 10000
     },
     "inputWidgets": {},
     "nuid": "2daca596-3bcf-4346-aa8b-e84f1595c3ce",
     "showTitle": true,
     "tableResultSettingsMap": {},
     "title": "Save the quality rules in delta table"
    }
   },
   "outputs": [],
   "source": [
    "# or save in delta table\n",
    "fq_tbl = f\"{database}.{schema}.maintenance_inferred_quality_rules\"\n",
    "dq_engine.save_checks_in_table(table_name=fq_tbl, checks=checks, run_config_name=\"maintenance\")"
   ]
  },
  {
   "cell_type": "markdown",
   "metadata": {
    "application/vnd.databricks.v1+cell": {
     "cellMetadata": {
      "byteLimit": 2048000,
      "rowLimit": 10000
     },
     "inputWidgets": {},
     "nuid": "d02d33c9-ab68-4151-9a2b-b4e3791c1cc1",
     "showTitle": false,
     "tableResultSettingsMap": {},
     "title": ""
    }
   },
   "source": [
    "\n",
    "### Data Quality Rules for Machine Sensor Data\n",
    "\n",
    "| Rule Type             | Example Rule                                                                                           | Purpose / Impact                                                        |DQ Rule|Quality Error Level|\n",
    "|-----------------------|-------------------------------------------------------------------------------------------------------|-------------------------------------------------------------------------|-|--|\n",
    "| **Completeness**      | Required fields (`sensor_id`, `machine_id`) must not be null    | Ensures all critical data is present and usable     |`is_not_null_and_not_empty`                    |ERROR|\n",
    "| **Range / Domain**    | `reading_value` (temperature): 0–100 | Detects outliers and sensor faults; ensures physical plausibility       |**FILTER quality Check + `is_in_range`**| WARN|\n",
    "| **Format Standardization**  |  `machine_id` follows standard format                             | Standardizes data for integration and analysis                          |`regex_match` |WARN|\n",
    "| **Timeliness**        | `reading_timestamp` is not in the future; beyond 3 days                                     | Prevents erroneous time-series data                            |`is_not_in_future` |ERROR|\n",
    "| **Correctness**        | `calibration_date` is eariler than `reading_timestamp`| Prevents erroneous sesnor readings data                            |`SQL Expression` |ERROR|\n",
    "\n",
    "\n",
    "\n"
   ]
  },
  {
   "cell_type": "markdown",
   "metadata": {
    "application/vnd.databricks.v1+cell": {
     "cellMetadata": {
      "byteLimit": 2048000,
      "rowLimit": 10000
     },
     "inputWidgets": {},
     "nuid": "8dfc8cfd-1e9d-4490-86e6-d4c7138a3dc5",
     "showTitle": false,
     "tableResultSettingsMap": {},
     "title": ""
    }
   },
   "source": [
    "### Feature: Quality Rules as YAML \n",
    "Read quality rules from the a YAML file and apply checks on a Dataframe\n"
   ]
  },
  {
   "cell_type": "code",
   "execution_count": 0,
   "metadata": {
    "application/vnd.databricks.v1+cell": {
     "cellMetadata": {
      "byteLimit": 2048000,
      "rowLimit": 10000
     },
     "inputWidgets": {},
     "nuid": "775bf506-1a98-440a-9a3f-9448eae640fd",
     "showTitle": true,
     "tableResultSettingsMap": {},
     "title": "Apply DQ Rules on Sensor Dataset"
    }
   },
   "outputs": [],
   "source": [
    "sensor_bronze_df = spark.read.table(sensor_table)\n",
    "sensor_quality_checks = dq_engine.load_checks_from_workspace_file(workspace_path=f\"{quality_rules_path}/sensor_dq_rules.yml\")"
   ]
  },
  {
   "cell_type": "markdown",
   "metadata": {
    "application/vnd.databricks.v1+cell": {
     "cellMetadata": {
      "byteLimit": 2048000,
      "rowLimit": 10000
     },
     "inputWidgets": {},
     "nuid": "8e3ab0ee-125a-4ad0-8bc5-621048bc33a6",
     "showTitle": false,
     "tableResultSettingsMap": {},
     "title": ""
    }
   },
   "source": [
    "### Features: Quarantine Bad Data & Perform Granular Issue Detection"
   ]
  },
  {
   "cell_type": "code",
   "execution_count": 0,
   "metadata": {
    "application/vnd.databricks.v1+cell": {
     "cellMetadata": {
      "byteLimit": 2048000,
      "rowLimit": 10000
     },
     "inputWidgets": {},
     "nuid": "8fc0ec47-488c-41bc-8806-8fea01353836",
     "showTitle": false,
     "tableResultSettingsMap": {},
     "title": ""
    }
   },
   "outputs": [],
   "source": [
    "valid_df, quarantined_df = dq_engine.apply_checks_by_metadata_and_split(sensor_bronze_df, sensor_quality_checks)\n",
    "\n",
    "print(\"=== Bad Data DF ===\")\n",
    "display(quarantined_df)"
   ]
  },
  {
   "cell_type": "markdown",
   "metadata": {
    "application/vnd.databricks.v1+cell": {
     "cellMetadata": {
      "byteLimit": 2048000,
      "rowLimit": 10000
     },
     "inputWidgets": {},
     "nuid": "e54ef9c7-03b4-4dad-8bad-9385beb8a609",
     "showTitle": false,
     "tableResultSettingsMap": {},
     "title": ""
    }
   },
   "source": [
    "### Feature: Bring / Build Your own Rule (Check)\n",
    "|Dataset| Rule Type             | Example Rule                                                                                           | Purpose / Impact                                                        |DQ Rule|\n",
    "|-|-----------------------|-------------------------------------------------------------------------------------------------------|-------------------------------------------------------------------------|--|\n",
    "|Sensor Data| **Standardization**          | `firmware_version` starts with \"v\"  | Ensures firmware version value is a standard value | Custom Rule Development| \n"
   ]
  },
  {
   "cell_type": "code",
   "execution_count": 0,
   "metadata": {
    "application/vnd.databricks.v1+cell": {
     "cellMetadata": {
      "byteLimit": 2048000,
      "rowLimit": 10000
     },
     "inputWidgets": {},
     "nuid": "70f9cbd1-a9e8-442a-9269-be4447066b41",
     "showTitle": false,
     "tableResultSettingsMap": {},
     "title": ""
    }
   },
   "outputs": [],
   "source": [
    "import pyspark.sql.functions as F\n",
    "from pyspark.sql import Column as col\n",
    "from databricks.labs.dqx.check_funcs import make_condition\n",
    "\n",
    "def firmware_version_start_with_v(column: str) -> col:\n",
    "    column_expr = F.expr(column)\n",
    "    \n",
    "    quality_rule_expr = ~(column_expr.startswith(\"v\"))\n",
    "    quality_rule_err_msg = f\"firmware_version doesn't starts with 'v'\"\n",
    "    quality_rule_err_col_name = f\"firmware_version_not_starts_with_v\"\n",
    "\n",
    "    return make_condition(quality_rule_expr, quality_rule_err_msg, quality_rule_err_col_name)"
   ]
  },
  {
   "cell_type": "markdown",
   "metadata": {
    "application/vnd.databricks.v1+cell": {
     "cellMetadata": {
      "byteLimit": 2048000,
      "rowLimit": 10000
     },
     "inputWidgets": {},
     "nuid": "2404ff07-b9b7-4974-8a7e-acdce35c5e03",
     "showTitle": false,
     "tableResultSettingsMap": {},
     "title": ""
    }
   },
   "source": [
    "\n",
    "### Feature : YAML Way\n",
    "\n",
    "[Sensor Data Quality Custom Rules YAML](https://e2-demo-field-eng.cloud.databricks.com/editor/files/2408509664666985?o=1444828305810485)\n"
   ]
  },
  {
   "cell_type": "markdown",
   "metadata": {
    "application/vnd.databricks.v1+cell": {
     "cellMetadata": {
      "byteLimit": 2048000,
      "rowLimit": 10000
     },
     "inputWidgets": {},
     "nuid": "0763314b-c46e-457a-ba08-45d01d7451f9",
     "showTitle": false,
     "tableResultSettingsMap": {},
     "title": ""
    }
   },
   "source": [
    "\n",
    "**Step-1** Read the input data and instantiate DQX Engine"
   ]
  },
  {
   "cell_type": "code",
   "execution_count": 0,
   "metadata": {
    "application/vnd.databricks.v1+cell": {
     "cellMetadata": {
      "byteLimit": 2048000,
      "rowLimit": 10000
     },
     "inputWidgets": {},
     "nuid": "5cb3ad64-ef8c-4e5c-8270-088b61c70b1d",
     "showTitle": false,
     "tableResultSettingsMap": {},
     "title": ""
    }
   },
   "outputs": [],
   "source": [
    "sensor_bronze_df = spark.read.table(sensor_table)\n",
    "sensor_quality_checks = dq_engine.load_checks_from_workspace_file(\n",
    "    workspace_path=f\"{quality_rules_path}/sensor_dq_rules_custom.yml\")\n",
    "\n",
    "dq_engine = DQEngine(WorkspaceClient())"
   ]
  },
  {
   "cell_type": "code",
   "execution_count": 0,
   "metadata": {
    "application/vnd.databricks.v1+cell": {
     "cellMetadata": {
      "byteLimit": 2048000,
      "rowLimit": 10000
     },
     "inputWidgets": {},
     "nuid": "dd7b730d-8ec8-45e3-aa33-f9018d3ccd70",
     "showTitle": false,
     "tableResultSettingsMap": {},
     "title": ""
    }
   },
   "outputs": [],
   "source": [
    "# Define the custom check \n",
    "custom_check_functions = {\"firmware_version_start_with_v\": firmware_version_start_with_v}  # list of custom check functions\n",
    "\n",
    "# Apply the custom check on the bronze data\n",
    "valid_df, quarantined_df = dq_engine.apply_checks_by_metadata_and_split(sensor_bronze_df, sensor_quality_checks, custom_check_functions)\n",
    "display(quarantined_df)\n",
    "\n",
    "sensor_quarantine_table = f\"{database}.{schema}.sensor_quarantine\"\n",
    "quarantined_df.write.mode(\"overwrite\").saveAsTable(sensor_quarantine_table)"
   ]
  },
  {
   "cell_type": "markdown",
   "metadata": {
    "application/vnd.databricks.v1+cell": {
     "cellMetadata": {
      "byteLimit": 2048000,
      "rowLimit": 10000
     },
     "inputWidgets": {},
     "nuid": "ebc2bfa8-754b-4b94-950e-188033e0470c",
     "showTitle": false,
     "tableResultSettingsMap": {},
     "title": ""
    }
   },
   "source": [
    "### Feature: Visualize Quality on Pre-Configured Dashboard"
   ]
  },
  {
   "cell_type": "markdown",
   "metadata": {
    "application/vnd.databricks.v1+cell": {
     "cellMetadata": {
      "byteLimit": 2048000,
      "rowLimit": 10000
     },
     "inputWidgets": {},
     "nuid": "e82950d5-c1fd-4665-bccb-6a73bd84dd2d",
     "showTitle": false,
     "tableResultSettingsMap": {},
     "title": ""
    }
   },
   "source": [
    "\n",
    "https://e2-demo-field-eng.cloud.databricks.com/dashboardsv3/01f025eecf261a81996b8991df9e870b/published?o=1444828305810485"
   ]
  },
  {
   "cell_type": "markdown",
   "metadata": {
    "application/vnd.databricks.v1+cell": {
     "cellMetadata": {
      "byteLimit": 2048000,
      "rowLimit": 10000
     },
     "inputWidgets": {},
     "nuid": "4bb9b5cb-9ada-4609-9cce-402d3d82706d",
     "showTitle": false,
     "tableResultSettingsMap": {},
     "title": ""
    }
   },
   "source": [
    "![dashboard.png](./images/dashboard.png \"dashboard.png\")\n"
   ]
  }
 ],
 "metadata": {
  "application/vnd.databricks.v1+notebook": {
   "computePreferences": null,
   "dashboards": [],
   "environmentMetadata": {
    "base_environment": "",
    "environment_version": "2"
   },
   "inputWidgetPreferences": null,
   "language": "python",
   "notebookMetadata": {
    "mostRecentlyExecutedCommandWithImplicitDF": {
     "commandId": 3878688999317734,
     "dataframes": [
      "_sqldf"
     ]
    },
    "pythonIndentUnit": 2
   },
   "notebookName": "01-prifile-dataset",
   "widgets": {
    "demo_database": {
     "currentValue": "amitabh_arora_catalog",
     "nuid": "09b06c51-5423-4220-ae98-e015bddd699d",
     "typedWidgetInfo": {
      "autoCreated": false,
      "defaultValue": "main",
      "label": "Catalog Name",
      "name": "demo_database",
      "options": {
       "widgetDisplayType": "Text",
       "validationRegex": null
      },
      "parameterDataType": "String"
     },
     "widgetInfo": {
      "widgetType": "text",
      "defaultValue": "main",
      "label": "Catalog Name",
      "name": "demo_database",
      "options": {
       "widgetType": "text",
       "autoCreated": null,
       "validationRegex": null
      }
     }
    },
    "demo_schema": {
     "currentValue": "dqx_demo",
     "nuid": "b66ea58c-8c7c-447c-bf6f-9e0163913e90",
     "typedWidgetInfo": {
      "autoCreated": false,
      "defaultValue": "default",
      "label": "Schema Name",
      "name": "demo_schema",
      "options": {
       "widgetDisplayType": "Text",
       "validationRegex": null
      },
      "parameterDataType": "String"
     },
     "widgetInfo": {
      "widgetType": "text",
      "defaultValue": "default",
      "label": "Schema Name",
      "name": "demo_schema",
      "options": {
       "widgetType": "text",
       "autoCreated": null,
       "validationRegex": null
      }
     }
    }
   }
  },
  "language_info": {
   "name": "python"
  }
 },
 "nbformat": 4,
 "nbformat_minor": 0
}
