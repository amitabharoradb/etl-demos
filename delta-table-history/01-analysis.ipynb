{
 "cells": [
  {
   "cell_type": "markdown",
   "metadata": {
    "application/vnd.databricks.v1+cell": {
     "cellMetadata": {},
     "inputWidgets": {},
     "nuid": "94ab2536-b930-4035-bf0a-2417bacfbd40",
     "showTitle": false,
     "tableResultSettingsMap": {},
     "title": ""
    }
   },
   "source": [
    "# Powr of Delta Table History"
   ]
  },
  {
   "cell_type": "code",
   "execution_count": 0,
   "metadata": {
    "application/vnd.databricks.v1+cell": {
     "cellMetadata": {
      "byteLimit": 2048000,
      "rowLimit": 10000
     },
     "inputWidgets": {},
     "nuid": "685f5232-d48e-4311-9bd8-9fbfb72571e6",
     "showTitle": false,
     "tableResultSettingsMap": {},
     "title": ""
    }
   },
   "outputs": [],
   "source": [
    "%python\n",
    "dbutils.widgets.text(\"the_table_name\", \"amitabh_arora_catalog.supply_chain.purchasing_suppliers\", \"Table Name\")"
   ]
  },
  {
   "cell_type": "markdown",
   "metadata": {
    "application/vnd.databricks.v1+cell": {
     "cellMetadata": {},
     "inputWidgets": {},
     "nuid": "caf11fe1-a6ad-4bfc-861f-1b91b25f52bc",
     "showTitle": false,
     "tableResultSettingsMap": {},
     "title": ""
    }
   },
   "source": [
    "## Change Volume\n",
    "To monitor the number of rows affected by operations (e.g., INSERT, UPDATE, DELETE) on a Delta Table within a specific time period. This KPI helps track the table's activity level and identify whether there is a need to perform tuning. For example, OPTIMIZE operation to reduce the number of small files and improve query performance or understand the trends in number of updated/inserted/deleted records."
   ]
  },
  {
   "cell_type": "code",
   "execution_count": 0,
   "metadata": {
    "application/vnd.databricks.v1+cell": {
     "cellMetadata": {
      "byteLimit": 2048000,
      "rowLimit": 10000
     },
     "inputWidgets": {},
     "nuid": "956a11eb-d20c-497c-b3b6-777e76906570",
     "showTitle": false,
     "tableResultSettingsMap": {},
     "title": ""
    }
   },
   "outputs": [],
   "source": [
    "WITH history AS (\n",
    " -- Get the Delta Table history using DESC HISTORY\n",
    " DESCRIBE HISTORY amitabh_arora_catalog.supply_chain.purchasing_suppliers\n",
    "),\n",
    "delta_history AS (\n",
    " -- Flatten the history results and extract the necessary columns\n",
    " SELECT\n",
    "   operation,\n",
    "   operationMetrics[\"numOutputRows\"] AS numOutputRows,  -- Number of rows affected\n",
    "   operationMetrics[\"numFiles\"] AS numFiles,\n",
    "   operationMetrics[\"bytesAdded\"] AS bytesAdded,             -- Number of files affected\n",
    "   operationMetrics[\"bytesRemoved\"] AS bytesRemoved,\n",
    "   CAST(timestamp AS DATE) AS operation_date             -- Extract the date from the timestamp\n",
    " FROM\n",
    "   history\n",
    ")\n",
    "\n",
    "\n",
    "-- Calculate the total rows affected, files impacted, and split by operation and date\n",
    "SELECT\n",
    "   operation_date,                   -- Group by date\n",
    "   operation,                        -- Group by operation type (INSERT, UPDATE, DELETE, etc.)\n",
    "   SUM(numOutputRows) AS total_rows_affected,  -- Total rows affected by operations per day\n",
    "   SUM(numFiles) AS total_files_written,       -- Total files affected by operations per day\n",
    "   SUM(bytesAdded) AS total_bytes_added,  -- Total bytes added by operations per day\n",
    "   SUM(bytesRemoved) AS total_bytes_removed       -- Total bytes removed by operations per day\n",
    "FROM\n",
    "   delta_history\n",
    "GROUP BY\n",
    "   operation_date,                   -- Group by operation date\n",
    "   operation                         -- Group by operation type (INSERT, UPDATE, DELETE)\n",
    "ORDER BY\n",
    "   operation_date DESC,              -- Sort by date (most recent first)\n",
    "   operation; "
   ]
  },
  {
   "cell_type": "markdown",
   "metadata": {
    "application/vnd.databricks.v1+cell": {
     "cellMetadata": {},
     "inputWidgets": {},
     "nuid": "c00c6cf0-208c-45e1-a391-151f9b0775f1",
     "showTitle": false,
     "tableResultSettingsMap": {},
     "title": ""
    }
   },
   "source": [
    "## Data Insertion/Update Speed (Execution Time)\n",
    "The Data Insertion/Update Speed KPI measures the time it takes to perform a data modification operation on a Delta Table, such as an INSERT, UPDATE, or MERGE. This metric helps assess the performance of data modification operations in your Delta Lake pipeline, providing insights into how efficiently data is being ingested or updated.\n",
    "\n",
    "Apart from total execution time, you can visualize scan time and re-write time as well."
   ]
  },
  {
   "cell_type": "code",
   "execution_count": 0,
   "metadata": {
    "application/vnd.databricks.v1+cell": {
     "cellMetadata": {
      "byteLimit": 2048000,
      "rowLimit": 10000
     },
     "inputWidgets": {},
     "nuid": "7649103c-b5dc-41bf-9a4d-2fb49abfb329",
     "showTitle": false,
     "tableResultSettingsMap": {},
     "title": ""
    }
   },
   "outputs": [],
   "source": [
    "WITH history AS (\n",
    " -- Get the Delta Table history using DESC HISTORY\n",
    " DESCRIBE HISTORY amitabh_arora_catalog.supply_chain.purchasing_suppliers\n",
    "),\n",
    "delta_history AS (\n",
    " -- Flatten the history results and extract the necessary columns\n",
    " SELECT\n",
    "   operation,\n",
    "   operationMetrics[\"executionTimeMs\"] AS execution_time_ms,  -- Total execution time in milliseconds\n",
    "   operationMetrics[\"scanTimeMs\"] AS scan_time_ms,            -- Time taken for scanning data\n",
    "   operationMetrics[\"rewriteTimeMs\"] AS rewrite_time_ms,      -- Time taken for rewriting data\n",
    "   CAST(timestamp AS DATE) AS operation_date  -- Extract the date from the timestamp\n",
    " FROM\n",
    "   history\n",
    " WHERE\n",
    "   operation IN ('WRITE', 'UPDATE', 'MERGE', 'WRITE')  -- Filter for data modification operations only\n",
    ")\n",
    "\n",
    "\n",
    "-- Calculate the execution time breakdown (Scan Time, Rewrite Time, and Other Time)\n",
    "SELECT\n",
    "   operation_date,                     -- Group by operation date\n",
    "   operation,                          -- Group by operation type (WRITE, UPDATE, MERGE)\n",
    "   AVG(scan_time_ms) AS avg_scan_time_ms,         -- Average scan time per operation\n",
    "   AVG(rewrite_time_ms) AS avg_rewrite_time_ms,   -- Average rewrite time per operation\n",
    "   AVG(execution_time_ms) AS avg_execution_time_ms,  -- Average total execution time\n",
    "   MIN(scan_time_ms) AS min_scan_time_ms,  -- Minimum scan_time_ms\n",
    "   MAX(scan_time_ms) AS max_scan_time_ms,   -- Maximum scan_time_ms\n",
    "   MIN(rewrite_time_ms) AS min_rewrite_time_ms,  -- Minimum rewrite_time_ms\n",
    "   MAX(rewrite_time_ms) AS max_rewrite_time_ms,   -- Maximum rewrite_time_ms\n",
    "   MIN(execution_time_ms) AS min_execution_time_ms,  -- Minimum execution time\n",
    "   MAX(execution_time_ms) AS max_execution_time_ms   -- Maximum execution time\n",
    "FROM\n",
    "   delta_history\n",
    "GROUP BY\n",
    "   operation_date,                     -- Group by operation date\n",
    "   operation                           -- Group by operation type (WRITE, UPDATE, MERGE)\n",
    "ORDER BY\n",
    "   operation_date DESC,                -- Sort by date (most recent first)\n",
    "   operation;                          -- Sort by operation type"
   ]
  },
  {
   "cell_type": "markdown",
   "metadata": {
    "application/vnd.databricks.v1+cell": {
     "cellMetadata": {},
     "inputWidgets": {},
     "nuid": "c8621957-44ea-4701-ac94-a56a0e6ddf8e",
     "showTitle": false,
     "tableResultSettingsMap": {},
     "title": ""
    }
   },
   "source": [
    "## Most Active Users/Jobs Impacting Table\n",
    "Tracking the most active users or jobs impacting table updates provides valuable insights into the behavior and health of your table, especially in cases where multiple processes and stakeholders are making changes. By monitoring who is making the most updates and understanding the volume of changes being made, you can proactively address issues, detect inefficiencies, and ensure smooth operation across all users and processes involved."
   ]
  },
  {
   "cell_type": "code",
   "execution_count": 0,
   "metadata": {
    "application/vnd.databricks.v1+cell": {
     "cellMetadata": {
      "byteLimit": 2048000,
      "rowLimit": 10000
     },
     "inputWidgets": {},
     "nuid": "67d751e1-0de7-4536-ad89-3b7eb98fe2d2",
     "showTitle": false,
     "tableResultSettingsMap": {},
     "title": ""
    }
   },
   "outputs": [],
   "source": [
    "WITH history AS (\n",
    " -- Get the Delta Table history using DESC HISTORY\n",
    " DESCRIBE HISTORY amitabh_arora_catalog.supply_chain.purchasing_suppliers\n",
    "),\n",
    "delta_history AS (\n",
    " -- Flatten the history results and extract the necessary columns\n",
    " SELECT\n",
    "   userName,                        -- The user making the modification\n",
    "   job[\"jobid\"] as jobid,                           -- The job executing the operation\n",
    "   operation,                       -- The type of operation (WRITE, UPDATE, MERGE, etc.)\n",
    "   operationMetrics.numOutputRows AS num_output_rows, -- Rows affected by the operation\n",
    "   CAST(timestamp AS DATE) AS operation_date  -- Extract the date from the timestamp\n",
    " FROM\n",
    "   history\n",
    " WHERE\n",
    "   operation IN ('INSERT', 'UPDATE', 'MERGE', 'WRITE')  -- Filter for data modification operations only\n",
    ")\n",
    "\n",
    "\n",
    "-- Top Users (Only if jobId is NULL)\n",
    "SELECT\n",
    "   userName,                            -- Group by user\n",
    "   COUNT(*) AS num_operations,          -- Count the number of operations performed by the user\n",
    "   SUM(num_output_rows) AS total_rows_affected  -- Sum of rows affected by the user\n",
    "FROM\n",
    "   delta_history\n",
    "WHERE\n",
    "   jobid IS NULL  -- Only consider users with NULL jobId\n",
    "GROUP BY\n",
    "   userName\n",
    "ORDER BY\n",
    "   num_operations DESC,                 -- Sort by number of operations (most active first)\n",
    "   total_rows_affected DESC             -- Sort by the number of rows affected\n",
    "LIMIT 10   -- Limit the results to top 10 users\n",
    ";\n",
    "\n",
    "\n",
    "-- Top Jobs (Only if jobId is NOT NULL)\n",
    "SELECT\n",
    "   jobId,                               -- Group by job\n",
    "   COUNT(*) AS num_operations,          -- Count the number of operations performed by the job\n",
    "   SUM(num_output_rows) AS total_rows_affected  -- Sum of rows affected by the job\n",
    "FROM\n",
    "   delta_history\n",
    "WHERE\n",
    "   jobId IS NOT NULL  -- Only consider jobs with non-null jobId\n",
    "GROUP BY\n",
    "   jobId\n",
    "ORDER BY\n",
    "   num_operations DESC,                 -- Sort by number of operations (most active first)\n",
    "   total_rows_affected DESC             -- Sort by the number of rows affected\n",
    "LIMIT 10   -- Limit the results to top 10 jobs"
   ]
  }
 ],
 "metadata": {
  "application/vnd.databricks.v1+notebook": {
   "computePreferences": null,
   "dashboards": [],
   "environmentMetadata": {
    "base_environment": "",
    "environment_version": "2"
   },
   "inputWidgetPreferences": null,
   "language": "sql",
   "notebookMetadata": {
    "pythonIndentUnit": 2
   },
   "notebookName": "01-analysis",
   "widgets": {
    "the_table_name": {
     "currentValue": "amitabh_arora_catalog.supply_chain.purchasing_suppliers",
     "nuid": "0395863c-3381-43f6-ab7e-530a231e313f",
     "typedWidgetInfo": {
      "autoCreated": false,
      "defaultValue": "amitabh_arora_catalog.supply_chain.purchasing_suppliers",
      "label": "Table Name",
      "name": "the_table_name",
      "options": {
       "widgetDisplayType": "Text",
       "validationRegex": null
      },
      "parameterDataType": "String"
     },
     "widgetInfo": {
      "widgetType": "text",
      "defaultValue": "amitabh_arora_catalog.supply_chain.purchasing_suppliers",
      "label": "Table Name",
      "name": "the_table_name",
      "options": {
       "widgetType": "text",
       "autoCreated": null,
       "validationRegex": null
      }
     }
    }
   }
  },
  "language_info": {
   "name": "sql"
  }
 },
 "nbformat": 4,
 "nbformat_minor": 0
}
